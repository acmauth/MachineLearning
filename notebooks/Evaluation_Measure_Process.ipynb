{
  "nbformat": 4,
  "nbformat_minor": 0,
  "metadata": {
    "colab": {
      "name": "ACM ML Team - Evaluation",
      "provenance": [],
      "collapsed_sections": []
    },
    "kernelspec": {
      "name": "python3",
      "display_name": "Python 3"
    }
  },
  "cells": [
    {
      "cell_type": "markdown",
      "metadata": {
        "id": "ljKwK9EBL8Cg"
      },
      "source": [
        "# Evaluation Measures # "
      ]
    },
    {
      "cell_type": "code",
      "metadata": {
        "id": "epFFpbv4f3I0"
      },
      "source": [
        "import numpy as np\n",
        "import matplotlib.pyplot as plt\n",
        "from sklearn import datasets\n",
        "from sklearn.linear_model import LogisticRegression\n",
        "from sklearn.model_selection import train_test_split\n",
        "from sklearn.metrics import confusion_matrix, accuracy_score\n",
        "from sklearn.utils.multiclass import unique_labels"
      ],
      "execution_count": null,
      "outputs": []
    },
    {
      "cell_type": "markdown",
      "metadata": {
        "id": "W13rZcTufSpI"
      },
      "source": [
        "## Classification Measures ##\n"
      ]
    },
    {
      "cell_type": "code",
      "metadata": {
        "id": "FfMlEdmrgEpU"
      },
      "source": [
        "def plot_confusion_matrix(y_true, y_pred, classes,cmap=plt.cm.Blues):\n",
        "    \"\"\"\n",
        "    This function prints and plots the confusion matrix.\n",
        "    \"\"\"\n",
        "\n",
        "    # Compute confusion matrix\n",
        "    cm = confusion_matrix(y_true, y_pred)\n",
        "    # Only use the labels that appear in the data\n",
        "    classes = classes[unique_labels(y_true, y_pred)]\n",
        "\n",
        "    print(cm)\n",
        "\n",
        "    fig, ax = plt.subplots()\n",
        "    im = ax.imshow(cm, interpolation='nearest', cmap=cmap)\n",
        "    ax.figure.colorbar(im, ax=ax)\n",
        "    # We want to show all ticks...\n",
        "    ax.set(xticks=np.arange(cm.shape[1]),\n",
        "           yticks=np.arange(cm.shape[0]),\n",
        "           # ... and label them with the respective list entries\n",
        "           xticklabels=classes, yticklabels=classes,\n",
        "           title=\"Confusion Matrix\",\n",
        "           ylabel='True label',\n",
        "           xlabel='Predicted label')\n",
        "\n",
        "    # Rotate the tick labels and set their alignment.\n",
        "    plt.setp(ax.get_xticklabels(), rotation=45, ha=\"right\",\n",
        "             rotation_mode=\"anchor\")\n",
        "\n",
        "    # Loop over data dimensions and create text annotations.\n",
        "    fmt = 'd'\n",
        "    thresh = cm.max() / 2.\n",
        "    for i in range(cm.shape[0]):\n",
        "        for j in range(cm.shape[1]):\n",
        "            ax.text(j, i, format(cm[i, j], fmt),\n",
        "                    ha=\"center\", va=\"center\",\n",
        "                    color=\"white\" if cm[i, j] > thresh else \"black\")\n",
        "    fig.tight_layout()\n",
        "    return ax"
      ],
      "execution_count": null,
      "outputs": []
    },
    {
      "cell_type": "code",
      "metadata": {
        "colab": {
          "base_uri": "https://localhost:8080/"
        },
        "id": "jx7_PM1ajEN5",
        "outputId": "730b7ae7-8731-4a26-c316-a73edaeca2c8"
      },
      "source": [
        "# import some data to play with\r\n",
        "iris = datasets.load_iris()\r\n",
        "print(iris.DESCR)"
      ],
      "execution_count": null,
      "outputs": [
        {
          "output_type": "stream",
          "text": [
            ".. _iris_dataset:\n",
            "\n",
            "Iris plants dataset\n",
            "--------------------\n",
            "\n",
            "**Data Set Characteristics:**\n",
            "\n",
            "    :Number of Instances: 150 (50 in each of three classes)\n",
            "    :Number of Attributes: 4 numeric, predictive attributes and the class\n",
            "    :Attribute Information:\n",
            "        - sepal length in cm\n",
            "        - sepal width in cm\n",
            "        - petal length in cm\n",
            "        - petal width in cm\n",
            "        - class:\n",
            "                - Iris-Setosa\n",
            "                - Iris-Versicolour\n",
            "                - Iris-Virginica\n",
            "                \n",
            "    :Summary Statistics:\n",
            "\n",
            "    ============== ==== ==== ======= ===== ====================\n",
            "                    Min  Max   Mean    SD   Class Correlation\n",
            "    ============== ==== ==== ======= ===== ====================\n",
            "    sepal length:   4.3  7.9   5.84   0.83    0.7826\n",
            "    sepal width:    2.0  4.4   3.05   0.43   -0.4194\n",
            "    petal length:   1.0  6.9   3.76   1.76    0.9490  (high!)\n",
            "    petal width:    0.1  2.5   1.20   0.76    0.9565  (high!)\n",
            "    ============== ==== ==== ======= ===== ====================\n",
            "\n",
            "    :Missing Attribute Values: None\n",
            "    :Class Distribution: 33.3% for each of 3 classes.\n",
            "    :Creator: R.A. Fisher\n",
            "    :Donor: Michael Marshall (MARSHALL%PLU@io.arc.nasa.gov)\n",
            "    :Date: July, 1988\n",
            "\n",
            "The famous Iris database, first used by Sir R.A. Fisher. The dataset is taken\n",
            "from Fisher's paper. Note that it's the same as in R, but not as in the UCI\n",
            "Machine Learning Repository, which has two wrong data points.\n",
            "\n",
            "This is perhaps the best known database to be found in the\n",
            "pattern recognition literature.  Fisher's paper is a classic in the field and\n",
            "is referenced frequently to this day.  (See Duda & Hart, for example.)  The\n",
            "data set contains 3 classes of 50 instances each, where each class refers to a\n",
            "type of iris plant.  One class is linearly separable from the other 2; the\n",
            "latter are NOT linearly separable from each other.\n",
            "\n",
            ".. topic:: References\n",
            "\n",
            "   - Fisher, R.A. \"The use of multiple measurements in taxonomic problems\"\n",
            "     Annual Eugenics, 7, Part II, 179-188 (1936); also in \"Contributions to\n",
            "     Mathematical Statistics\" (John Wiley, NY, 1950).\n",
            "   - Duda, R.O., & Hart, P.E. (1973) Pattern Classification and Scene Analysis.\n",
            "     (Q327.D83) John Wiley & Sons.  ISBN 0-471-22361-1.  See page 218.\n",
            "   - Dasarathy, B.V. (1980) \"Nosing Around the Neighborhood: A New System\n",
            "     Structure and Classification Rule for Recognition in Partially Exposed\n",
            "     Environments\".  IEEE Transactions on Pattern Analysis and Machine\n",
            "     Intelligence, Vol. PAMI-2, No. 1, 67-71.\n",
            "   - Gates, G.W. (1972) \"The Reduced Nearest Neighbor Rule\".  IEEE Transactions\n",
            "     on Information Theory, May 1972, 431-433.\n",
            "   - See also: 1988 MLC Proceedings, 54-64.  Cheeseman et al\"s AUTOCLASS II\n",
            "     conceptual clustering system finds 3 classes in the data.\n",
            "   - Many, many more ...\n"
          ],
          "name": "stdout"
        }
      ]
    },
    {
      "cell_type": "code",
      "metadata": {
        "id": "o8Xte9znfZZ3",
        "colab": {
          "base_uri": "https://localhost:8080/",
          "height": 353
        },
        "outputId": "978c4643-2e96-4803-df6d-481c43012dbb"
      },
      "source": [
        "\n",
        "X = iris.data\n",
        "y = iris.target\n",
        "class_names = iris.target_names\n",
        "\n",
        "# Split the data into a training set and a test set\n",
        "X_train, X_test, y_train, y_test = train_test_split(X, y, random_state=0,shuffle=True)\n",
        "\n",
        "classifier =  LogisticRegression(random_state=6,max_iter=1000)\n",
        "y_pred = classifier.fit(X_train, y_train).predict(X_test)\n",
        "\n",
        "# Plot confusion matrix\n",
        "plot_confusion_matrix(y_test, y_pred, classes=class_names)\n",
        "\n",
        "plt.show()"
      ],
      "execution_count": null,
      "outputs": [
        {
          "output_type": "stream",
          "text": [
            "[[13  0  0]\n",
            " [ 0 15  1]\n",
            " [ 0  0  9]]\n"
          ],
          "name": "stdout"
        },
        {
          "output_type": "display_data",
          "data": {
            "image/png": "[encoded data removed]",
            "text/plain": [
              "<Figure size 432x288 with 2 Axes>"
            ]
          },
          "metadata": {
            "tags": [],
            "needs_background": "light"
          }
        }
      ]
    },
    {
      "cell_type": "code",
      "metadata": {
        "id": "EPQ_p3PwhnXY",
        "colab": {
          "base_uri": "https://localhost:8080/"
        },
        "outputId": "622dd1f0-7fab-4ffb-cc19-49d62bced1b9"
      },
      "source": [
        "from sklearn.metrics import accuracy_score, f1_score, precision_score, recall_score, log_loss\n",
        "# Accuracy\n",
        "print(\"Accuracy:\" + str(accuracy_score(y_test,y_pred)))\n",
        "# F1 Score\n",
        "print(\"F1-Score:\" + str(f1_score(y_test,y_pred,average='macro')))\n",
        "# Precision \n",
        "print(\"Precision:\" + str(precision_score(y_test,y_pred,average='macro')))\n",
        "# Recall \n",
        "print(\"Recall:\" + str(recall_score(y_test,y_pred,average='macro')))\n",
        "\n",
        "# Use average parameter on multi-class problems - the way it averages over classes.\n",
        "\n",
        "# Log loss - It only works with classifiers that support predict_proba\n",
        "print(\"Log Loss:\" + str(log_loss(y_test,classifier.predict_proba(X_test))))\n"
      ],
      "execution_count": null,
      "outputs": [
        {
          "output_type": "stream",
          "text": [
            "Accuracy:0.9736842105263158\n",
            "F1-Score:0.9717034521788342\n",
            "Precision:0.9666666666666667\n",
            "Recall:0.9791666666666666\n",
            "Log Loss:0.17161639050637115\n"
          ],
          "name": "stdout"
        }
      ]
    },
    {
      "cell_type": "markdown",
      "metadata": {
        "id": "a1m32hyEajLw"
      },
      "source": [
        "You can find all the metrics available in scikit-learn in the page [here](https://scikit-learn.org/stable/modules/model_evaluation.html#classification-metrics)."
      ]
    },
    {
      "cell_type": "markdown",
      "metadata": {
        "id": "POfgDRLzfV4a"
      },
      "source": [
        "## Regression ##"
      ]
    },
    {
      "cell_type": "code",
      "metadata": {
        "id": "cBUVDuX8KfQ3"
      },
      "source": [
        "from sklearn.linear_model import LinearRegression\n",
        "from sklearn.datasets import load_diabetes\n",
        "import math"
      ],
      "execution_count": null,
      "outputs": []
    },
    {
      "cell_type": "code",
      "metadata": {
        "id": "JMmSbL9gpbdI",
        "colab": {
          "base_uri": "https://localhost:8080/"
        },
        "outputId": "13e6c01d-17c8-456a-9bc6-8adb577f8edd"
      },
      "source": [
        "# import some data to play with\n",
        "diabetes = datasets.load_diabetes()\n",
        "print(diabetes.DESCR)\n",
        "X = diabetes.data\n",
        "y = diabetes.target\n",
        "\n",
        "\n",
        "# Split the data into a training set and a test set\n",
        "X_train, X_test, y_train, y_test = train_test_split(X, y, random_state=0,shuffle=True)\n",
        "\n",
        "classifier =  LinearRegression()\n",
        "y_pred = classifier.fit(X_train, y_train).predict(X_test)\n"
      ],
      "execution_count": null,
      "outputs": [
        {
          "output_type": "stream",
          "text": [
            ".. _diabetes_dataset:\n",
            "\n",
            "Diabetes dataset\n",
            "----------------\n",
            "\n",
            "Ten baseline variables, age, sex, body mass index, average blood\n",
            "pressure, and six blood serum measurements were obtained for each of n =\n",
            "442 diabetes patients, as well as the response of interest, a\n",
            "quantitative measure of disease progression one year after baseline.\n",
            "\n",
            "**Data Set Characteristics:**\n",
            "\n",
            "  :Number of Instances: 442\n",
            "\n",
            "  :Number of Attributes: First 10 columns are numeric predictive values\n",
            "\n",
            "  :Target: Column 11 is a quantitative measure of disease progression one year after baseline\n",
            "\n",
            "  :Attribute Information:\n",
            "      - Age\n",
            "      - Sex\n",
            "      - Body mass index\n",
            "      - Average blood pressure\n",
            "      - S1\n",
            "      - S2\n",
            "      - S3\n",
            "      - S4\n",
            "      - S5\n",
            "      - S6\n",
            "\n",
            "Note: Each of these 10 feature variables have been mean centered and scaled by the standard deviation times `n_samples` (i.e. the sum of squares of each column totals 1).\n",
            "\n",
            "Source URL:\n",
            "https://www4.stat.ncsu.edu/~boos/var.select/diabetes.html\n",
            "\n",
            "For more information see:\n",
            "Bradley Efron, Trevor Hastie, Iain Johnstone and Robert Tibshirani (2004) \"Least Angle Regression,\" Annals of Statistics (with discussion), 407-499.\n",
            "(https://web.stanford.edu/~hastie/Papers/LARS/LeastAngle_2002.pdf)\n"
          ],
          "name": "stdout"
        }
      ]
    },
    {
      "cell_type": "code",
      "metadata": {
        "id": "W-I0fR1pptnU",
        "colab": {
          "base_uri": "https://localhost:8080/"
        },
        "outputId": "39e6bc30-df7a-4bc3-a5e3-17cecd1cf781"
      },
      "source": [
        "from sklearn.metrics import r2_score, mean_squared_error, mean_absolute_error\n",
        "# MAE\n",
        "print(\"MAE:\" + str(mean_absolute_error(y_test,y_pred)))\n",
        "# Root Mean Sqaured Error\n",
        "print(\"Root Mean Squared Error:\" + str(mean_squared_error(y_test,y_pred) ** (1/2)))\n",
        "# R2 Score\n",
        "print(\"R2_Score:\" + str(r2_score(y_test,y_pred)))\n"
      ],
      "execution_count": null,
      "outputs": [
        {
          "output_type": "stream",
          "text": [
            "MAE:45.120987683251016\n",
            "Root Mean Squared Error:56.393251695949644\n",
            "R2_Score:0.35940090989715534\n"
          ],
          "name": "stdout"
        }
      ]
    },
    {
      "cell_type": "markdown",
      "metadata": {
        "id": "IFeusEbOpbec"
      },
      "source": [
        "You can find all the available regression measures in the page [here](https://scikit-learn.org/stable/modules/model_evaluation.html#regression-metrics)"
      ]
    },
    {
      "cell_type": "markdown",
      "metadata": {
        "id": "MMaHiR7iL36V"
      },
      "source": [
        "# Evaluation Process #"
      ]
    },
    {
      "cell_type": "code",
      "metadata": {
        "id": "kpus_aoHzwPs"
      },
      "source": [
        "#Imports\n",
        "\n",
        "import pandas as pd\n",
        "import numpy as np\n",
        "from sklearn.datasets import load_diabetes\n",
        "from sklearn.model_selection import train_test_split\n",
        "from sklearn.utils  import resample\n",
        "from sklearn.tree import DecisionTreeRegressor\n",
        "import math"
      ],
      "execution_count": null,
      "outputs": []
    },
    {
      "cell_type": "markdown",
      "metadata": {
        "id": "9q0BFkc_t13T"
      },
      "source": [
        "## Train, Validation and Test Set ## "
      ]
    },
    {
      "cell_type": "code",
      "metadata": {
        "id": "bkXFSzWmveS3"
      },
      "source": [
        "from sklearn.datasets import load_breast_cancer"
      ],
      "execution_count": null,
      "outputs": []
    },
    {
      "cell_type": "code",
      "metadata": {
        "id": "ENCvI0ZsvmTa",
        "colab": {
          "base_uri": "https://localhost:8080/"
        },
        "outputId": "fcca3348-8628-41f6-ff5f-a239fb4d1b52"
      },
      "source": [
        "cancer_dataset = load_breast_cancer()\n",
        "print(cancer_dataset.DESCR[:1200])\n",
        "X = cancer_dataset.data\n",
        "y = cancer_dataset.target\n",
        "model = LogisticRegression(random_state = 6, max_iter=1000)"
      ],
      "execution_count": null,
      "outputs": [
        {
          "output_type": "stream",
          "text": [
            ".. _breast_cancer_dataset:\n",
            "\n",
            "Breast cancer wisconsin (diagnostic) dataset\n",
            "--------------------------------------------\n",
            "\n",
            "**Data Set Characteristics:**\n",
            "\n",
            "    :Number of Instances: 569\n",
            "\n",
            "    :Number of Attributes: 30 numeric, predictive attributes and the class\n",
            "\n",
            "    :Attribute Information:\n",
            "        - radius (mean of distances from center to points on the perimeter)\n",
            "        - texture (standard deviation of gray-scale values)\n",
            "        - perimeter\n",
            "        - area\n",
            "        - smoothness (local variation in radius lengths)\n",
            "        - compactness (perimeter^2 / area - 1.0)\n",
            "        - concavity (severity of concave portions of the contour)\n",
            "        - concave points (number of concave portions of the contour)\n",
            "        - symmetry \n",
            "        - fractal dimension (\"coastline approximation\" - 1)\n",
            "\n",
            "        The mean, standard error, and \"worst\" or largest (mean of the three\n",
            "        largest values) of these features were computed for each image,\n",
            "        resulting in 30 features.  For instance, field 3 is Mean Radius, field\n",
            "        13 is Radius SE, field 23 is Worst Radius.\n",
            "\n",
            "        - class:\n",
            "                - WDBC-Malignant\n",
            "                - WDBC-Benign\n",
            "\n",
            "    :Summary Statistics:\n",
            "\n",
            "    ================================\n"
          ],
          "name": "stdout"
        }
      ]
    },
    {
      "cell_type": "code",
      "metadata": {
        "id": "C6Ob3azow5tf"
      },
      "source": [
        "X_train, X_test, y_train, y_test = train_test_split(X, y, test_size=0.2, random_state=1)\n",
        "\n",
        "X_train, X_val, y_train, y_val  = train_test_split(X_train, y_train, test_size=0.2, random_state=1)\n",
        "\n",
        "# Alternatively we can split the initial dataset as 60% - 20% - 20%"
      ],
      "execution_count": null,
      "outputs": []
    },
    {
      "cell_type": "code",
      "metadata": {
        "id": "MHSsUXLExq-7",
        "colab": {
          "base_uri": "https://localhost:8080/"
        },
        "outputId": "04c70b65-5b49-40b5-a93f-47c59c80b930"
      },
      "source": [
        "# Let's tune the regularization of the model using the f1_score score\n",
        "\n",
        "predictions = [ ]\n",
        "\n",
        "for reg in range(1,10):\n",
        "  reg = reg/10\n",
        "  model = LogisticRegression(C=reg, random_state = 6, max_iter = 10000)\n",
        "  model.fit(X_train,y_train)\n",
        "  pred = model.predict(X_val)\n",
        "  predictions.append([reg,f1_score(y_val,pred)])\n",
        "  \n",
        "print(predictions)"
      ],
      "execution_count": null,
      "outputs": [
        {
          "output_type": "stream",
          "text": [
            "[[0.1, 0.9743589743589743], [0.2, 0.9743589743589743], [0.3, 0.9743589743589743], [0.4, 0.9743589743589743], [0.5, 0.9743589743589743], [0.6, 0.9743589743589743], [0.7, 0.9743589743589743], [0.8, 0.9661016949152542], [0.9, 0.9661016949152542]]\n"
          ],
          "name": "stdout"
        }
      ]
    },
    {
      "cell_type": "code",
      "metadata": {
        "id": "8qjLWwh0z58d",
        "colab": {
          "base_uri": "https://localhost:8080/"
        },
        "outputId": "a9492323-21a6-4a1b-e015-c679693b74a5"
      },
      "source": [
        "  #Use the model of the validation test on the test set\n",
        "  \n",
        "  model = LogisticRegression(C=0.2, random_state = 6, max_iter=10000)\n",
        "  \n",
        "  pred = model.fit(X_train,y_train).predict(X_test)\n",
        "  print(\"Accuracy score on test set with just the training set:\" + str(accuracy_score(y_test,pred)))\n",
        "  \n",
        "  \n",
        "  \n",
        "  pred = model.fit(np.concatenate((X_train,X_val)),np.concatenate((y_train,y_val))).predict(X_test)\n",
        "  print(\"Accuracy score on test set with the training set and the validation set:\" + str(accuracy_score(y_test,pred)))\n"
      ],
      "execution_count": null,
      "outputs": [
        {
          "output_type": "stream",
          "text": [
            "Accuracy score on test set with just the training set:0.8771929824561403\n",
            "Accuracy score on test set with the training set and the validation set:0.8771929824561403\n"
          ],
          "name": "stdout"
        }
      ]
    },
    {
      "cell_type": "markdown",
      "metadata": {
        "id": "c-NSLRZY4L44"
      },
      "source": [
        "## Cross Validation ## \n"
      ]
    },
    {
      "cell_type": "code",
      "metadata": {
        "id": "pD31_WFM4O0L",
        "colab": {
          "base_uri": "https://localhost:8080/"
        },
        "outputId": "4977d83a-2cbd-4b51-b65e-eb0375abc333"
      },
      "source": [
        "# Repeated Holdout\n",
        "\n",
        "iterations =  10\n",
        "\n",
        "model = LogisticRegression(max_iter=10000, random_state = 6)\n",
        "\n",
        "accuracies = []\n",
        "for i in range(0,iterations):\n",
        "  X_train, X_test, y_train, y_test = train_test_split(X, y, test_size=0.2, random_state=i)\n",
        "  pred = model.fit(X_train,y_train).predict(X_test)\n",
        "  accuracies.append(accuracy_score(y_test,pred))\n",
        "  \n",
        "print(accuracies)\n",
        "sm = sum(accuracies[0:len(accuracies)])\n",
        "print(\"Average:\" + str(sm/iterations))\n",
        "\n"
      ],
      "execution_count": null,
      "outputs": [
        {
          "output_type": "stream",
          "text": [
            "[0.9473684210526315, 0.9473684210526315, 0.9298245614035088, 0.9385964912280702, 0.9122807017543859, 0.9649122807017544, 0.9385964912280702, 0.9473684210526315, 0.9649122807017544, 0.9385964912280702]\n",
            "Average:0.9429824561403508\n"
          ],
          "name": "stdout"
        }
      ]
    },
    {
      "cell_type": "code",
      "metadata": {
        "id": "w4kqtybV5vsW",
        "colab": {
          "base_uri": "https://localhost:8080/"
        },
        "outputId": "c8c5ce2a-7ec5-47f1-9178-be325fda21b9"
      },
      "source": [
        "# K fold cross validation\n",
        "from sklearn.model_selection import KFold\n",
        "\n",
        "iterations =  20\n",
        "\n",
        "model = LogisticRegression(max_iter = 10000, random_state = 6)\n",
        "\n",
        "kf = KFold(n_splits=iterations)\n",
        "\n",
        "\n",
        "accuracies = []\n",
        "\n",
        "for train_index, test_index in kf.split(X):\n",
        "  X_train, X_test = X[train_index], X[test_index]\n",
        "  y_train, y_test = y[train_index], y[test_index]\n",
        "  pred = model.fit(X_train,y_train).predict(X_test)\n",
        "  accuracies.append(accuracy_score(y_test,pred))\n",
        "  \n",
        "print(accuracies)\n",
        "sm = sum(accuracies[0:len(accuracies)])\n",
        "print(\"Average:\" + str(sm/iterations))\n"
      ],
      "execution_count": null,
      "outputs": [
        {
          "output_type": "stream",
          "text": [
            "[0.9310344827586207, 0.8275862068965517, 0.9310344827586207, 0.9655172413793104, 0.9655172413793104, 0.9310344827586207, 1.0, 0.9655172413793104, 0.9310344827586207, 0.9642857142857143, 0.9285714285714286, 1.0, 1.0, 0.9642857142857143, 0.9285714285714286, 0.9642857142857143, 0.9285714285714286, 0.9642857142857143, 0.9642857142857143, 0.9285714285714286]\n",
            "Average:0.9491995073891625\n"
          ],
          "name": "stdout"
        }
      ]
    },
    {
      "cell_type": "markdown",
      "metadata": {
        "id": "23Ax7dGoLu0f"
      },
      "source": [
        "## Stratified k-fold ## "
      ]
    },
    {
      "cell_type": "code",
      "metadata": {
        "id": "TvDnpffkL_Ak",
        "colab": {
          "base_uri": "https://localhost:8080/"
        },
        "outputId": "d250b8dd-458c-45f6-a53d-263a9822ebec"
      },
      "source": [
        "from sklearn.model_selection import StratifiedKFold\n",
        "\n",
        "skf = StratifiedKFold(n_splits=10)\n",
        "model = LogisticRegression(max_iter=10000, random_state = 6)\n",
        "\n",
        "accuracies = []\n",
        "\n",
        "for train_index, test_index in skf.split(X,y): \n",
        "  X_train, X_test = X[train_index], X[test_index]\n",
        "  y_train, y_test = y[train_index], y[test_index]\n",
        "  print(\"train:\")\n",
        "  print(np.unique(y_train,return_counts=True))\n",
        "  print(\"test:\")\n",
        "  print(np.unique(y_test,return_counts=True))\n",
        "\n",
        "  pred = model.fit(X_train,y_train).predict(X_test)\n",
        "  accuracies.append(accuracy_score(y_test,pred))\n",
        "  \n",
        "print(accuracies)\n",
        "sm = sum(accuracies[0:len(accuracies)])\n",
        "print(\"Average:\" + str(sm/iterations))"
      ],
      "execution_count": null,
      "outputs": [
        {
          "output_type": "stream",
          "text": [
            "train:\n",
            "(array([0, 1]), array([190, 322]))\n",
            "test:\n",
            "(array([0, 1]), array([22, 35]))\n",
            "train:\n",
            "(array([0, 1]), array([190, 322]))\n",
            "test:\n",
            "(array([0, 1]), array([22, 35]))\n",
            "train:\n",
            "(array([0, 1]), array([191, 321]))\n",
            "test:\n",
            "(array([0, 1]), array([21, 36]))\n",
            "train:\n",
            "(array([0, 1]), array([191, 321]))\n",
            "test:\n",
            "(array([0, 1]), array([21, 36]))\n",
            "train:\n",
            "(array([0, 1]), array([191, 321]))\n",
            "test:\n",
            "(array([0, 1]), array([21, 36]))\n",
            "train:\n",
            "(array([0, 1]), array([191, 321]))\n",
            "test:\n",
            "(array([0, 1]), array([21, 36]))\n",
            "train:\n",
            "(array([0, 1]), array([191, 321]))\n",
            "test:\n",
            "(array([0, 1]), array([21, 36]))\n",
            "train:\n",
            "(array([0, 1]), array([191, 321]))\n",
            "test:\n",
            "(array([0, 1]), array([21, 36]))\n",
            "train:\n",
            "(array([0, 1]), array([191, 321]))\n",
            "test:\n",
            "(array([0, 1]), array([21, 36]))\n",
            "train:\n",
            "(array([0, 1]), array([191, 322]))\n",
            "test:\n",
            "(array([0, 1]), array([21, 35]))\n",
            "[0.9824561403508771, 0.9122807017543859, 0.9298245614035088, 0.9473684210526315, 0.9824561403508771, 0.9824561403508771, 0.9298245614035088, 0.9473684210526315, 0.9649122807017544, 0.9642857142857143]\n",
            "Average:0.47716165413533834\n"
          ],
          "name": "stdout"
        }
      ]
    },
    {
      "cell_type": "markdown",
      "metadata": {
        "id": "BIWqYkgTNudE"
      },
      "source": [
        "## Limited Data ##\n",
        "\n",
        "Leave-one-out cross-validation [(LOO)](https://scikit-learn.org/stable/modules/generated/sklearn.model_selection.LeaveOneOut.html)\n",
        "\n",
        "For bagging you can use the resample function with replacement (default) and combine the score manually. "
      ]
    },
    {
      "cell_type": "markdown",
      "metadata": {
        "id": "IIz2TV_SoZ68"
      },
      "source": [
        "## Learning Curves ##"
      ]
    },
    {
      "cell_type": "code",
      "metadata": {
        "id": "tBVxaezcpIff"
      },
      "source": [
        "import numpy as np\n",
        "import matplotlib.pyplot as plt\n",
        "from sklearn.linear_model import LogisticRegression\n",
        "from sklearn.datasets import load_digits,load_iris,load_wine,load_breast_cancer\n",
        "from sklearn.model_selection import learning_curve\n",
        "from sklearn.model_selection import ShuffleSplit"
      ],
      "execution_count": null,
      "outputs": []
    },
    {
      "cell_type": "code",
      "metadata": {
        "id": "wbX9aZLToZQa"
      },
      "source": [
        "def plot_learning_curve(estimator, title, X, y, axes=None, ylim=None, cv=None,\n",
        "                        n_jobs=None, train_sizes=np.linspace(.1, 1.0, 5)):\n",
        "  \n",
        "    if axes is None:\n",
        "        _, axes = plt.subplots(1, 3, figsize=(20, 5))\n",
        "\n",
        "    axes[0].set_title(title)\n",
        "    if ylim is not None:\n",
        "        axes[0].set_ylim(*ylim)\n",
        "    axes[0].set_xlabel(\"Training examples\")\n",
        "    axes[0].set_ylabel(\"Score\")\n",
        "\n",
        "    train_sizes, train_scores, test_scores, fit_times, _ = \\\n",
        "        learning_curve(estimator, X, y, cv=cv, n_jobs=n_jobs,\n",
        "                       train_sizes=train_sizes,\n",
        "                       return_times=True)\n",
        "    train_scores_mean = np.mean(train_scores, axis=1)\n",
        "    train_scores_std = np.std(train_scores, axis=1)\n",
        "    test_scores_mean = np.mean(test_scores, axis=1)\n",
        "    test_scores_std = np.std(test_scores, axis=1)\n",
        "    fit_times_mean = np.mean(fit_times, axis=1)\n",
        "    fit_times_std = np.std(fit_times, axis=1)\n",
        "\n",
        "    # Plot learning curve\n",
        "    axes[0].grid()\n",
        "    axes[0].fill_between(train_sizes, train_scores_mean - train_scores_std,\n",
        "                         train_scores_mean + train_scores_std, alpha=0.1,\n",
        "                         color=\"r\")\n",
        "    axes[0].fill_between(train_sizes, test_scores_mean - test_scores_std,\n",
        "                         test_scores_mean + test_scores_std, alpha=0.1,\n",
        "                         color=\"g\")\n",
        "    axes[0].plot(train_sizes, train_scores_mean, 'o-', color=\"r\",\n",
        "                 label=\"Training score\")\n",
        "    axes[0].plot(train_sizes, test_scores_mean, 'o-', color=\"g\",\n",
        "                 label=\"Cross-validation score\")\n",
        "    axes[0].legend(loc=\"best\")\n",
        "\n",
        "    # Plot n_samples vs fit_times\n",
        "    axes[1].grid()\n",
        "    axes[1].plot(train_sizes, fit_times_mean, 'o-')\n",
        "    axes[1].fill_between(train_sizes, fit_times_mean - fit_times_std,\n",
        "                         fit_times_mean + fit_times_std, alpha=0.1)\n",
        "    axes[1].set_xlabel(\"Training examples\")\n",
        "    axes[1].set_ylabel(\"fit_times\")\n",
        "    axes[1].set_title(\"Scalability of the model\")\n",
        "\n",
        "    # Plot fit_time vs score\n",
        "    axes[2].grid()\n",
        "    axes[2].plot(fit_times_mean, test_scores_mean, 'o-')\n",
        "    axes[2].fill_between(fit_times_mean, test_scores_mean - test_scores_std,\n",
        "                         test_scores_mean + test_scores_std, alpha=0.1)\n",
        "    axes[2].set_xlabel(\"fit_times\")\n",
        "    axes[2].set_ylabel(\"Score\")\n",
        "    axes[2].set_title(\"Performance of the model\")\n",
        "\n",
        "    return plt"
      ],
      "execution_count": null,
      "outputs": []
    },
    {
      "cell_type": "code",
      "metadata": {
        "id": "FUHp8F67pDqY",
        "colab": {
          "base_uri": "https://localhost:8080/",
          "height": 894
        },
        "outputId": "1ae20c73-82bf-49f6-f320-9b8c25323298"
      },
      "source": [
        "\n",
        "fig, axes = plt.subplots(3, 2, figsize=(10, 15))\n",
        "\n",
        "X, y = load_digits(return_X_y=True)\n",
        "\n",
        "title = \"Learning Curves Decision Tree\"\n",
        "# Cross validation with 100 iterations to get smoother mean test and train\n",
        "# score curves, each time with 20% data randomly selected as a validation set.\n",
        "cv = ShuffleSplit(n_splits=10, test_size=0.2, random_state=0)\n",
        "estimator = LogisticRegression(random_state=42,max_iter=10000)\n",
        "plot_learning_curve(estimator, title, X, y, axes=axes[:, 0], ylim=(0.6, 1.01),\n",
        "                    cv=cv, n_jobs=-1)\n",
        "\n",
        "title = r\"Learning Curves Logistic Regression\"\n",
        "# SVC is more expensive so we do a lower number of CV iterations:\n",
        "cv = ShuffleSplit(n_splits=10, test_size=0.2, random_state=0)\n",
        "estimator = LogisticRegression(C=0.3,max_iter=10000,random_state=42)\n",
        "plot_learning_curve(estimator, title, X, y, axes=axes[:, 1], ylim=(0.6, 1.01),\n",
        "                    cv=cv, n_jobs=-1)\n",
        "\n",
        "plt.show()"
      ],
      "execution_count": null,
      "outputs": [
        {
          "output_type": "display_data",
          "data": {
            "image/png": "[encoded data removed]",
            "text/plain": [
              "<Figure size 720x1080 with 6 Axes>"
            ]
          },
          "metadata": {
            "tags": [],
            "needs_background": "light"
          }
        }
      ]
    }
  ]
}